{
  "nbformat": 4,
  "nbformat_minor": 0,
  "metadata": {
    "colab": {
      "name": "homework-1.ipynb",
      "provenance": [],
      "collapsed_sections": []
    },
    "kernelspec": {
      "display_name": "Python 3",
      "language": "python",
      "name": "python3"
    },
    "language_info": {
      "codemirror_mode": {
        "name": "ipython",
        "version": 3
      },
      "file_extension": ".py",
      "mimetype": "text/x-python",
      "name": "python",
      "nbconvert_exporter": "python",
      "pygments_lexer": "ipython3",
      "version": "3.7.4"
    }
  },
  "cells": [
    {
      "cell_type": "markdown",
      "metadata": {
        "id": "njyUznMr9Q3V"
      },
      "source": [
        "In this homework, you need to solve two tasks. For problems with theoretical calculations, you need to show a sufficient number of intermediate steps to explain how you have obtained the result. \n",
        "* Formulas are expected in Latex style inside the notebook. The assignment should be uploaded in Jupyter Notebook format(`.ipynb`). \n",
        "* Overall, there are 45 points, however, you can get a maximum of 40 points for this assignment( `your_points = max(your_points, 40)`). \n",
        "* No bonus points will be transferred to the next assignment."
      ]
    },
    {
      "cell_type": "markdown",
      "metadata": {
        "id": "RAkdId9D9Q3g"
      },
      "source": [
        "# Task 1. Moscow weather (20 points)"
      ]
    },
    {
      "cell_type": "markdown",
      "metadata": {
        "id": "bQ9GXCO79Q3i"
      },
      "source": [
        "In this task you need to estimate parameters and their confidence intervals for a given sample. As data, you will explore Moscow weather. You can look at some visualizations of martian weather [here](https://pudding.cool/2018/01/mars-weather/) (completely unrelated to Moscow weather, though).\n",
        "\n",
        "First of all, you will need some libraries. Also, fix random seed to get reproducable results."
      ]
    },
    {
      "cell_type": "code",
      "metadata": {
        "id": "uRDwcTTX9Q3k"
      },
      "source": [
        "import numpy as np\n",
        "import pandas as pd\n",
        "\n",
        "from scipy import stats\n",
        "\n",
        "import matplotlib.pyplot as plt\n",
        "from tqdm import tqdm\n",
        "\n",
        "np.random.seed(366)"
      ],
      "execution_count": 255,
      "outputs": []
    },
    {
      "cell_type": "code",
      "metadata": {
        "colab": {
          "base_uri": "https://localhost:8080/"
        },
        "id": "ksUXXCTn3k75",
        "outputId": "80539775-4f5d-447c-cc1f-35603db7bec2"
      },
      "source": [
        "from google.colab import drive\n",
        "drive.mount('/content/gdrive')"
      ],
      "execution_count": 256,
      "outputs": [
        {
          "output_type": "stream",
          "name": "stdout",
          "text": [
            "Drive already mounted at /content/gdrive; to attempt to forcibly remount, call drive.mount(\"/content/gdrive\", force_remount=True).\n"
          ]
        }
      ]
    },
    {
      "cell_type": "code",
      "metadata": {
        "colab": {
          "base_uri": "https://localhost:8080/"
        },
        "id": "yi3WjesM4EGo",
        "outputId": "565115cb-857a-4662-ea58-b06291e16f51"
      },
      "source": [
        "%cd '/content/gdrive/MyDrive/Colab Notebooks/Principles of Applied Statistics/homework-1'"
      ],
      "execution_count": 257,
      "outputs": [
        {
          "output_type": "stream",
          "name": "stdout",
          "text": [
            "/content/gdrive/MyDrive/Colab Notebooks/Principles of Applied Statistics/homework-1\n"
          ]
        }
      ]
    },
    {
      "cell_type": "code",
      "metadata": {
        "id": "yqrwGGPf9Q3m"
      },
      "source": [
        "import matplotlib as mp\n",
        "import matplotlib.font_manager\n",
        "\n",
        "titlesize = 20\n",
        "labelsize = 16\n",
        "legendsize = labelsize\n",
        "xticksize = 14\n",
        "yticksize = xticksize\n",
        "\n",
        "mp.rcParams['legend.markerscale'] = 1.5     # the relative size of legend markers vs. original\n",
        "mp.rcParams['legend.handletextpad'] = 0.5\n",
        "mp.rcParams['legend.labelspacing'] = 0.4    # the vertical space between the legend entries in fraction of fontsize\n",
        "mp.rcParams['legend.borderpad'] = 0.5       # border whitespace in fontsize units\n",
        "mp.rcParams['font.size'] = 12\n",
        "mp.rcParams['font.family'] = 'serif'\n",
        "mp.rcParams['font.serif'] = 'Times New Roman'\n",
        "mp.rcParams['axes.labelsize'] = labelsize\n",
        "mp.rcParams['axes.titlesize'] = titlesize\n",
        "mp.rcParams['axes.unicode_minus'] = False\n",
        "\n",
        "mp.rc('xtick', labelsize=xticksize)\n",
        "mp.rc('ytick', labelsize=yticksize)\n",
        "mp.rc('legend', fontsize=legendsize)\n",
        "\n",
        "mp.rc('font', **{'family':'serif'})"
      ],
      "execution_count": 258,
      "outputs": []
    },
    {
      "cell_type": "markdown",
      "metadata": {
        "id": "V73CuFBICD2P"
      },
      "source": [
        "# Construction of confidence intervals for $\\tau = g(\\theta)$ using MLE point estimations $\\hat\\theta$ for unknown parameter $\\theta$ of distribution $f(x, \\theta)$.\n",
        "\n",
        "### 1. Find point estimation $\\hat\\theta$ for unknown parameter $\\theta$\n",
        "\n",
        "$$\\hat\\theta_n = \\text{arg}\\max_{\\theta}\\prod_{i = 1}^n f(x_i, \\theta)$$\n",
        "\n",
        "### 2. Define score function $S(x, \\theta)$ for given distribution\n",
        "\n",
        "$$S(x, \\theta) = \\frac{\\partial}{\\partial \\theta}\\log f(x, \\theta)$$\n",
        "\n",
        "### 2. Compute Fisher information $I(\\theta)$ for score function $S(x, \\theta)$\n",
        "\n",
        "$$I_n(\\theta) = \\mathbb{D}_{\\theta} \\sum_{i = 1}^n S(x_i, \\theta) = \\sum_{i = 1}^n \\mathbb{D}_{\\theta} S(x_i, \\theta) =\n",
        "n\\mathbb{D}_{\\theta} S(x_n, \\theta) = nI(\\theta)$$\n",
        "\n",
        "$$I(\\theta) = \\mathbb{D}_{\\theta} \\frac{\\partial}{\\partial \\theta}\\log f(x, \\theta) = \n",
        "-\\mathbb{E}_{\\theta}\\frac{\\partial^2}{\\partial \\theta^2}\\log f(x, \\theta)$$\n",
        "\n",
        "### 4. Plug estimation $\\hat\\theta_n$ into Fisher information $I_n(\\theta)$ and construct scaling coefficient $\\sigma(\\hat\\theta_n)$\n",
        "\n",
        "$$\\sigma(\\hat\\theta_n) = \\sqrt{1 / I_n(\\hat\\theta_n)}$$\n",
        "\n",
        "### 5. Plug estimation $\\hat\\theta_n$ and coefficient $\\sigma(\\hat\\theta_n)$ into function $g(\\theta)$ and construct estimation $\\hat\\tau_n$\n",
        "\n",
        "$$\\hat\\tau_n = g(\\hat\\theta_n),\\;\\sigma(\\hat\\tau_n) = |g'(\\hat\\theta_n)|\\sigma(\\hat\\theta_n)$$\n",
        "\n",
        "### 6. Compute boundaries of asymptotic confidence interval\n",
        "\n",
        "$$\\mathbb{P}\\bigg[\\tau \\in \\bigg(\\hat\\tau_n - \\frac{z_{\\alpha/2}}{\\sigma(\\hat\\tau_n)}, \n",
        "\\hat\\tau_n + \\frac{z_{\\alpha/2}}{\\sigma(\\hat\\tau_n)}\\bigg)\\bigg] \\to 1 - \\alpha$$\n",
        "\n"
      ]
    },
    {
      "cell_type": "markdown",
      "metadata": {
        "id": "EMCNGCNs9Q3o"
      },
      "source": [
        "## Part 1. Load data (1 point)\n",
        "\n",
        "You need to load data from `moscow-weather.csv`, take feature for your variant, remove absent values (`Nan`s) and convert sample to `int` type. "
      ]
    },
    {
      "cell_type": "markdown",
      "metadata": {
        "id": "CdezaKbv9Q3q"
      },
      "source": [
        "### a) \n",
        "\n",
        "`feature_name = \"TMIN\"`"
      ]
    },
    {
      "cell_type": "markdown",
      "metadata": {
        "id": "T7-ChWUq9Q3s"
      },
      "source": [
        "### b)\n",
        "\n",
        "`feature_name = \"TMAX\"`"
      ]
    },
    {
      "cell_type": "code",
      "metadata": {
        "id": "GETrKFJa9Q3t"
      },
      "source": [
        "feature_name = \"TMIN\"\n",
        "df = pd.read_csv(\"moscow-weather.csv\")[feature_name]\n",
        "sample_full = df.dropna().values.astype(np.int)"
      ],
      "execution_count": 259,
      "outputs": []
    },
    {
      "cell_type": "markdown",
      "metadata": {
        "id": "YFHEzQ6E9Q3t"
      },
      "source": [
        "Let's take a four month period or ~ 121 days. Sample them randomly from full sample using function `choice`(from `numpy.random`) with parameter `replace=False`."
      ]
    },
    {
      "cell_type": "code",
      "metadata": {
        "id": "z1fT-7ne9Q3u"
      },
      "source": [
        "n = 121\n",
        "sample_part = np.random.choice(sample_full, n, replace=False)"
      ],
      "execution_count": 260,
      "outputs": []
    },
    {
      "cell_type": "markdown",
      "metadata": {
        "id": "SSP92cuu9Q3v"
      },
      "source": [
        "Plot values frequences for full and partial sample using bar plot."
      ]
    },
    {
      "cell_type": "code",
      "metadata": {
        "colab": {
          "base_uri": "https://localhost:8080/",
          "height": 504
        },
        "id": "FM9jASg-9Q3v",
        "outputId": "b5e687c7-74a9-4ae7-fcc2-660892d175b7"
      },
      "source": [
        "plt.figure(figsize=(10, 8))\n",
        "plt.hist(sample_full)\n",
        "plt.grid()\n",
        "plt.title('Full Sample', fontsize=14)\n",
        "plt.show()"
      ],
      "execution_count": 261,
      "outputs": [
        {
          "output_type": "display_data",
          "data": {
            "image/png": "[encoded data removed]",
            "text/plain": [
              "<Figure size 720x576 with 1 Axes>"
            ]
          },
          "metadata": {
            "needs_background": "light"
          }
        }
      ]
    },
    {
      "cell_type": "code",
      "metadata": {
        "colab": {
          "base_uri": "https://localhost:8080/",
          "height": 504
        },
        "id": "iI8542uH9JV2",
        "outputId": "02e117e9-4592-4865-f795-d4c75b484b5e"
      },
      "source": [
        "plt.figure(figsize=(10, 8))\n",
        "plt.hist(sample_part)\n",
        "plt.grid()\n",
        "plt.title('Part Sample', fontsize=14)\n",
        "plt.show()"
      ],
      "execution_count": 262,
      "outputs": [
        {
          "output_type": "display_data",
          "data": {
            "image/png": "[encoded data removed]",
            "text/plain": [
              "<Figure size 720x576 with 1 Axes>"
            ]
          },
          "metadata": {
            "needs_background": "light"
          }
        }
      ]
    },
    {
      "cell_type": "markdown",
      "metadata": {
        "id": "pMfJrD8-9Q3w"
      },
      "source": [
        "## Part 2. Parameter estimation (6 points)\n",
        "Find the following parameters' estimates and their 95% confidence intervals (except for `mode` and `skewness`). You need to show theoretical calculations (with intermediate steps) for estimates and intervals (with intermediate steps) and then make simulation."
      ]
    },
    {
      "cell_type": "code",
      "metadata": {
        "id": "lHivedUzbEHF"
      },
      "source": [
        "alpha = 0.05"
      ],
      "execution_count": 263,
      "outputs": []
    },
    {
      "cell_type": "markdown",
      "metadata": {
        "id": "QZC-dCXb9Q3x"
      },
      "source": [
        "### a) Mean and CI"
      ]
    },
    {
      "cell_type": "markdown",
      "metadata": {
        "id": "QnCGaBjF9Q3x"
      },
      "source": [
        "Let us denote the mean $\\mathbb{E}x = \\mu$ and the variance $\\mathbb{D}x = \\sigma^2$ of given distribution. Then we can use CLT and write the following statements\n",
        "\n",
        "$$S_n = \\sum\\limits_{i = 1}^n x_i,\\;\\hat\\mu_n = \\frac{1}{n}\\sum\\limits_{i = 1}^n x_i = \\frac{S_n}{n} \\Longrightarrow \n",
        "\\mathbb{E}\\hat\\mu_n = \\frac{1}{n}\\sum\\limits_{i = 1}^n \\mathbb{E}x_i = \\mathbb{E}x_n = \\mu,\\;\\mathbb{D}\\hat\\mu_n = \n",
        "\\frac{1}{n^2}\\sum\\limits_{i = 1}^n \\mathbb{D}x_i = \\frac{\\mathbb{D}x_n}{n}$$\n",
        "$$\\frac{S_n - \\mathbb{E}S_n}{\\sqrt{\\mathbb{D}S_n}} = \\frac{\\hat\\mu_n - \\mathbb{E}x_n}{\\sqrt{\\mathbb{D}x_n / n}} = \n",
        "\\frac{\\hat\\mu_n - \\mu}{\\sqrt{\\sigma^2 / n}} \\leadsto \\text{N}_{0, 1}$$\n",
        "\n",
        "Since the actual variance $\\sigma^2$ is not known, we can compute the sample variance $\\hat\\sigma^2_n$ and use Slutsky's theorem considering its convergence to $\\sigma^2$ in probability \n",
        "\n",
        "$$\\hat\\sigma^2_n = \\frac{1}{n}\\sum\\limits_{i = 1}^n(x_i - \\hat\\mu_n)^2 \\overset{\\mathbb{P}}{\\longrightarrow} \\sigma^2,\\; \n",
        "\\frac{\\hat\\mu_n - \\mu}{\\sqrt{\\hat\\sigma^2_n / n}} \\leadsto \\text{N}_{0, 1} \\Longrightarrow \n",
        "\\mathbb{P}\\Bigg(-z_{1 - \\alpha/2} < \\frac{\\hat\\mu_n - \\mu}{\\sqrt{\\hat\\sigma^2_n / n}} < z_{1 - \\alpha/2}\\Bigg) \\longrightarrow 1 - \\alpha$$\n",
        "\n",
        "Finally, the asymptotic confidence interval can be expressed in the following way\n",
        "\n",
        "$$\\text{CI}(\\mu) = \\bigg(\\hat\\mu_n - z_{1 - \\alpha/2}\\sqrt{\\hat\\sigma^2_n / n}, \\hat\\mu_n + z_{1 - \\alpha/2}\\sqrt{\\hat\\sigma^2_n / n}\\bigg)$$"
      ]
    },
    {
      "cell_type": "code",
      "metadata": {
        "id": "pHfLv63HZr6C"
      },
      "source": [
        "def calculate_mean_parametric_interval(sample, alpha):\n",
        "    quantile = stats.norm.ppf(1 - alpha / 2)\n",
        "\n",
        "    mean_sample = np.mean(sample)\n",
        "    variance_sample = np.var(sample, ddof=0)\n",
        "\n",
        "    mean_half_interval = quantile * np.sqrt(variance_sample / len(sample))\n",
        "    mean_left_boundary, mean_right_boundary = mean_sample - mean_half_interval, mean_sample + mean_half_interval\n",
        "\n",
        "    return mean_sample, (mean_left_boundary, mean_right_boundary)"
      ],
      "execution_count": 264,
      "outputs": []
    },
    {
      "cell_type": "code",
      "metadata": {
        "colab": {
          "base_uri": "https://localhost:8080/"
        },
        "id": "2H03QW4g9Q3x",
        "outputId": "b2c1f223-f709-4f0d-caff-6405f824daad"
      },
      "source": [
        "mean, (lower, upper) = calculate_mean_parametric_interval(sample_part, alpha)\n",
        "print(f\"Mean {mean:.3f} with confidence interval ({lower:.3f}, {upper:.3f})\")"
      ],
      "execution_count": 265,
      "outputs": [
        {
          "output_type": "stream",
          "name": "stdout",
          "text": [
            "Mean 3.174 with confidence interval (1.534, 4.814)\n"
          ]
        }
      ]
    },
    {
      "cell_type": "code",
      "metadata": {
        "id": "gZdPo-aWVM0g"
      },
      "source": [
        "mean_parametric_ci = (mean, (lower, upper))"
      ],
      "execution_count": 266,
      "outputs": []
    },
    {
      "cell_type": "markdown",
      "metadata": {
        "id": "hCB_nHsE9Q3y"
      },
      "source": [
        "### b) Median and CI\n",
        "\n",
        "Here you can assume that PDF is continuous at the median point and provide a normal-based interval.\n",
        "\n",
        "---\n",
        "\n",
        "Let us denote the median $\\gamma_{0.5} = m$ and assume that the sample comes from the normal distribution, then we can use the following estimation\n",
        "\n",
        "$$f(x) = \\frac{1}{\\sqrt{2\\pi\\sigma^2}}\\exp\\left(-\\frac{(x - \\mu)^2}{2\\sigma^2}\\right) \\Longrightarrow f(m) = \\frac{1}{\\sqrt{2\\pi\\sigma^2}}$$\n",
        "\n",
        "Laplace has established that in this case the distribution of sample median has such properties\n",
        "\n",
        "$$\\hat{m}_n = x_{[n / 2]},\\;\\mathbb{E}\\hat{m}_n = m,\\;\\mathbb{D}\\hat{m}_n = \\frac{\\pi\\sigma^2}{2n} \\Longrightarrow\n",
        "\\frac{\\hat{m}_n - m}{\\sqrt{\\pi\\sigma^2 / 2n}} \\leadsto \\text{N}_{0, 1}$$\n",
        "\n",
        "here we can use Slutsky's theorem again for sample variance and get\n",
        "\n",
        "$$\\frac{\\hat{m}_n - m}{\\sqrt{\\pi\\hat\\sigma^2_n / 2n}} \\leadsto \\text{N}_{0, 1} \\Longrightarrow \n",
        "\\mathbb{P}\\Bigg(-z_{1 - \\alpha/2} < \\frac{\\hat{m}_n - m}{\\sqrt{\\pi\\hat\\sigma^2_n / 2n}} < z_{1 - \\alpha/2}\\Bigg) \\longrightarrow 1 - \\alpha$$\n",
        "\n",
        "Finally, the asymptotic confidence interval can be expressed in the following way\n",
        "\n",
        "$$\\text{CI}(m) = \\bigg(\\hat{m}_n - z_{1 - \\alpha/2}\\sqrt{\\pi\\hat\\sigma^2_n / 2n}, \\hat{m}_n + z_{1 - \\alpha/2}\\sqrt{\\pi\\hat\\sigma^2_n / 2n}\\bigg)$$"
      ]
    },
    {
      "cell_type": "code",
      "metadata": {
        "id": "72c1tHgFa0O1"
      },
      "source": [
        "def calculate_median_parametric_interval(sample, alpha):\n",
        "    quantile = stats.norm.ppf(1 - alpha / 2)\n",
        "\n",
        "    median_sample = np.median(sample)\n",
        "    variance_sample = np.var(sample, ddof=0)\n",
        "\n",
        "    median_half_interval = quantile * np.sqrt(np.pi * variance_sample / (2 * len(sample)))\n",
        "    median_left_boundary, median_right_boundary = median_sample - median_half_interval, median_sample + median_half_interval\n",
        "\n",
        "    return median_sample, (median_left_boundary, median_right_boundary)"
      ],
      "execution_count": 267,
      "outputs": []
    },
    {
      "cell_type": "code",
      "metadata": {
        "colab": {
          "base_uri": "https://localhost:8080/"
        },
        "id": "J4NzBqUP9Q3y",
        "outputId": "f650d8f2-763f-4271-d557-43fa0761c2a3"
      },
      "source": [
        "median, (lower, upper) = calculate_median_parametric_interval(sample_part, alpha)\n",
        "print(f\"Median {median:.3f} with normal-based confidence interval ({lower:.3f}, {upper:.3f})\")"
      ],
      "execution_count": 268,
      "outputs": [
        {
          "output_type": "stream",
          "name": "stdout",
          "text": [
            "Median 4.000 with normal-based confidence interval (1.945, 6.055)\n"
          ]
        }
      ]
    },
    {
      "cell_type": "code",
      "metadata": {
        "id": "Be9lsfbSVZVk"
      },
      "source": [
        "median_parametric_ci = (median, (lower, upper))"
      ],
      "execution_count": 269,
      "outputs": []
    },
    {
      "cell_type": "markdown",
      "metadata": {
        "id": "ZjdrOFsP9Q3z"
      },
      "source": [
        "### c) Variance and CI\n",
        "\n",
        "Here you can assume that the sample comes from a normal distribution, but the mean and variance are not known.\n",
        "\n",
        "---\n",
        "\n",
        "Let us denote the mean $\\mathbb{E}x = \\mu$ and the variance $\\mathbb{D}x = \\sigma^2$ of given distribution. \n",
        "We can use expressions from the a) task\n",
        "\n",
        "$$\\hat\\sigma^2_n = \\frac{1}{n}\\sum\\limits_{i = 1}^n (x_i - \\hat\\mu_n)^2 = \n",
        "\\frac{1}{n}\\sum\\limits_{i = 1}^n \\left(x_i - \\frac{1}{n}\\sum\\limits_{j = 1}^n x_j\\right)^2,\\;\\mathbb{E}\\hat\\sigma^2_n = \n",
        "\\frac{n - 1}{n}\\mathbb{D}x_n = \\frac{n - 1}{n}\\sigma^2$$\n",
        "\n",
        "Here we can introduce standard normal variables $y_i = \\cfrac{x_i - \\mu}{\\sigma}$\n",
        "$$\\hat\\sigma^2_n = \\frac{1}{n}\\sum\\limits_{i = 1}^n \\left(x_i - \\frac{1}{n}\\sum\\limits_{j = 1}^n x_j\\right)^2 = \n",
        "\\frac{\\sigma^2}{n}\\sum\\limits_{i = 1}^n \\left(\\frac{x_i - \\mu}{\\sigma} - \\frac{1}{n}\\sum\\limits_{j = 1}^n \\frac{x_j - \\mu}{\\sigma}\\right)^2 =$$\n",
        "$$= \\frac{\\sigma^2}{n}\\sum\\limits_{i = 1}^n \\left(y_i - \\frac{1}{n}\\sum\\limits_{j = 1}^n y_j\\right)^2 = \n",
        "\\frac{\\sigma^2}{n}\\left[\\sum\\limits_{i = 1}^n y_i^2 - \\left(\\frac{1}{\\sqrt{n}}\\sum\\limits_{j = 1}^n y_j\\right)^2\\right]$$\n",
        "\n",
        "According to Fisher's theorem, the expression under the square brackets has distribution $\\text{H}_{n - 1}$\n",
        "\n",
        "$$\\cfrac{n\\hat\\sigma^2_n}{\\sigma^2} \\sim \\text{H}_{n - 1} \\Longrightarrow \n",
        "\\mathbb{P}\\left(\\chi^2_{\\alpha/2, n - 1} < \\cfrac{n\\hat\\sigma^2_n}{\\sigma^2} < \\chi^2_{1 - \\alpha/2, n - 1}\\right) = 1 - \\alpha$$\n",
        "\n",
        "Finally, the precise confidence interval can be expressed in the following way\n",
        "\n",
        "$$ \\text{CI}(\\sigma^2) = \\left(\\frac{n\\hat\\sigma^2_n}{\\chi^2_{1 - \\alpha/2, n - 1}}, \\frac{n\\hat\\sigma^2_n}{\\chi^2_{\\alpha/2, n - 1}}\\right)$$"
      ]
    },
    {
      "cell_type": "code",
      "metadata": {
        "id": "bS6lXkI2bSss"
      },
      "source": [
        "def calculate_variance_parametric_interval(sample, alpha, df):\n",
        "    lower_quantile, upper_quantile = stats.chi2.ppf(alpha / 2, df=df), stats.chi2.ppf(1 - alpha / 2, df=df)\n",
        "\n",
        "    variance_sample = np.var(sample_part, ddof=0)\n",
        "    variance_left_boundary, variance_right_boundary = len(sample) * variance_sample / upper_quantile, len(sample) * variance_sample / lower_quantile\n",
        "\n",
        "    return variance_sample, (variance_left_boundary, variance_right_boundary)"
      ],
      "execution_count": 270,
      "outputs": []
    },
    {
      "cell_type": "code",
      "metadata": {
        "id": "1rDCXfst-hMV"
      },
      "source": [
        "df = n - 1"
      ],
      "execution_count": 271,
      "outputs": []
    },
    {
      "cell_type": "code",
      "metadata": {
        "colab": {
          "base_uri": "https://localhost:8080/"
        },
        "id": "HwrPIzVi9Q3z",
        "outputId": "a9408dac-7885-4b21-b709-589a355a240e"
      },
      "source": [
        "var, (lower, upper) = calculate_variance_parametric_interval(sample_part, alpha, df)\n",
        "print(f\"Variance {var:.3f} with confidence interval ({lower:.3f}, {upper:.3f})\")"
      ],
      "execution_count": 272,
      "outputs": [
        {
          "output_type": "stream",
          "name": "stdout",
          "text": [
            "Variance 84.722 with confidence interval (67.349, 111.948)\n"
          ]
        }
      ]
    },
    {
      "cell_type": "code",
      "metadata": {
        "id": "grQUUR1vVeaY"
      },
      "source": [
        "var_parametric_ci = (var, (lower, upper))"
      ],
      "execution_count": 273,
      "outputs": []
    },
    {
      "cell_type": "markdown",
      "metadata": {
        "id": "Ekh8Vr5F9Q3z"
      },
      "source": [
        "### d) Mode (most frequent value in a sample)"
      ]
    },
    {
      "cell_type": "code",
      "metadata": {
        "colab": {
          "base_uri": "https://localhost:8080/"
        },
        "id": "-Ke-oHDE9Q3z",
        "outputId": "6544f5fc-06ba-4515-a85f-6b144aa2bd2c"
      },
      "source": [
        "mode_part = stats.mode(sample_part)[0][0]\n",
        "print(f\"Mode: {mode_part}\")"
      ],
      "execution_count": 274,
      "outputs": [
        {
          "output_type": "stream",
          "name": "stdout",
          "text": [
            "Mode: 10\n"
          ]
        }
      ]
    },
    {
      "cell_type": "markdown",
      "metadata": {
        "id": "4MyJKvE09Q30"
      },
      "source": [
        "### e) Skewness"
      ]
    },
    {
      "cell_type": "code",
      "metadata": {
        "colab": {
          "base_uri": "https://localhost:8080/"
        },
        "id": "sqLC-sTj9Q30",
        "outputId": "5bef2002-e436-4086-beaa-ce4032d504b9"
      },
      "source": [
        "skewness_part = stats.skew(sample_part)\n",
        "print(f\"Skewness: {skewness_part:.3f}\")"
      ],
      "execution_count": 275,
      "outputs": [
        {
          "output_type": "stream",
          "name": "stdout",
          "text": [
            "Skewness: -0.499\n"
          ]
        }
      ]
    },
    {
      "cell_type": "markdown",
      "metadata": {
        "id": "IbLJteBe9Q30"
      },
      "source": [
        "## Part 3. Bootstrap (4 points)\n",
        "\n",
        "Find confidence intervals for following estimates using bootsrap. Use function `choice` with parameter `replace=True` for bootstrap sampling. Try different numbers of generated samples."
      ]
    },
    {
      "cell_type": "markdown",
      "metadata": {
        "id": "dms5gtnt9Q30"
      },
      "source": [
        "### a) Mean and CI"
      ]
    },
    {
      "cell_type": "code",
      "metadata": {
        "id": "FiXCPSwabx_K"
      },
      "source": [
        "def calculate_mean_bootstrap_interval(sample, n_resamples, n_bootstraps, alpha):\n",
        "    means_over_bootstraps = []\n",
        "\n",
        "    for i in range(n_bootstraps):\n",
        "        bootstrap_distribution = np.random.choice(sample, n_resamples, replace=True)\n",
        "        means_over_bootstraps.append(np.mean(bootstrap_distribution))\n",
        "    \n",
        "    quantile = stats.norm.ppf(1 - alpha / 2)\n",
        "\n",
        "    mean_sample = np.mean(sample)\n",
        "    mean_bootstrap_half_interval = quantile * np.sqrt(np.var(means_over_bootstraps))\n",
        "\n",
        "    mean_bootstrap_left_boundary, mean_bootstrap_right_boundary = \\\n",
        "    mean_sample - mean_bootstrap_half_interval, mean_sample + mean_bootstrap_half_interval\n",
        "\n",
        "    return mean_sample, (mean_bootstrap_left_boundary, mean_bootstrap_right_boundary)"
      ],
      "execution_count": 276,
      "outputs": []
    },
    {
      "cell_type": "code",
      "metadata": {
        "id": "Qq3cbhhgMgdQ"
      },
      "source": [
        "n_resamples = n\n",
        "n_bootstraps = 100\n",
        "alpha = 0.05"
      ],
      "execution_count": 277,
      "outputs": []
    },
    {
      "cell_type": "code",
      "metadata": {
        "colab": {
          "base_uri": "https://localhost:8080/"
        },
        "id": "z_Oz0k109Q30",
        "outputId": "f9f32049-a321-4112-efd5-905499e5b79a"
      },
      "source": [
        "mean, (lower, upper) = calculate_mean_bootstrap_interval(sample_part, n_resamples, n_bootstraps, alpha)\n",
        "print(f\"Mean {mean:.3f} with confident interval ({lower:.3f}, {upper:.3f})\")"
      ],
      "execution_count": 278,
      "outputs": [
        {
          "output_type": "stream",
          "name": "stdout",
          "text": [
            "Mean 3.174 with confident interval (1.609, 4.738)\n"
          ]
        }
      ]
    },
    {
      "cell_type": "code",
      "metadata": {
        "id": "0fzHEXvZVj18"
      },
      "source": [
        "mean_bootstrap_ci = (mean, (lower, upper))"
      ],
      "execution_count": 279,
      "outputs": []
    },
    {
      "cell_type": "markdown",
      "metadata": {
        "id": "eFtG60-N9Q30"
      },
      "source": [
        "### b) Median and CI"
      ]
    },
    {
      "cell_type": "code",
      "metadata": {
        "id": "jNgM1JqOcp4I"
      },
      "source": [
        "def calculate_median_bootstrap_interval(sample, n_resamples, n_bootstraps, alpha):\n",
        "    medians_over_bootstraps = []\n",
        "\n",
        "    for i in range(n_bootstraps):\n",
        "        bootstrap_distribution = np.random.choice(sample, n_resamples, replace=True)\n",
        "        medians_over_bootstraps.append(np.median(bootstrap_distribution))\n",
        "    \n",
        "    quantile = stats.norm.ppf(1 - alpha / 2)\n",
        "\n",
        "    median_sample = np.median(sample)\n",
        "    median_bootstrap_half_interval = quantile * np.sqrt(np.var(medians_over_bootstraps))\n",
        "\n",
        "    median_bootstrap_left_boundary, median_bootstrap_right_boundary = \\\n",
        "    median_sample - median_bootstrap_half_interval, median_sample + median_bootstrap_half_interval\n",
        "\n",
        "    return median_sample, (median_bootstrap_left_boundary, median_bootstrap_right_boundary)"
      ],
      "execution_count": 280,
      "outputs": []
    },
    {
      "cell_type": "code",
      "metadata": {
        "id": "027a4X9DTo0k"
      },
      "source": [
        "n_resamples = n\n",
        "n_bootstraps = 100\n",
        "alpha = 0.05"
      ],
      "execution_count": 281,
      "outputs": []
    },
    {
      "cell_type": "code",
      "metadata": {
        "colab": {
          "base_uri": "https://localhost:8080/"
        },
        "id": "ueRPunVm9Q31",
        "outputId": "04b21400-5477-430f-e98e-357948544bb8"
      },
      "source": [
        "median, (lower, upper) = calculate_median_bootstrap_interval(sample_part, n_resamples, n_bootstraps, alpha)\n",
        "print(f\"Median {median:.3f} with normal-based confident interval ({lower:.3f}, {upper:.3f})\")"
      ],
      "execution_count": 282,
      "outputs": [
        {
          "output_type": "stream",
          "name": "stdout",
          "text": [
            "Median 4.000 with normal-based confident interval (1.690, 6.310)\n"
          ]
        }
      ]
    },
    {
      "cell_type": "code",
      "metadata": {
        "id": "iaIoFNn7Vm02"
      },
      "source": [
        "median_bootstrap_ci = (median, (lower, upper))"
      ],
      "execution_count": 283,
      "outputs": []
    },
    {
      "cell_type": "markdown",
      "metadata": {
        "id": "v7K8IsMq9Q31"
      },
      "source": [
        "### c) Variance and CI"
      ]
    },
    {
      "cell_type": "code",
      "metadata": {
        "id": "vTKEdt8mdKeX"
      },
      "source": [
        "def calculate_variance_bootstrap_interval(sample, n_resamples, n_bootstraps, alpha):\n",
        "    variances_over_bootstraps = []\n",
        "\n",
        "    for i in range(n_bootstraps):\n",
        "        bootstrap_distribution = np.random.choice(sample, n_resamples, replace=True)\n",
        "        variances_over_bootstraps.append(np.var(bootstrap_distribution))\n",
        "    \n",
        "    quantile = stats.norm.ppf(1 - alpha / 2)\n",
        "\n",
        "    variance_sample = np.var(sample_part)\n",
        "    variance_bootstrap_half_interval = quantile * np.sqrt(np.var(variances_over_bootstraps))\n",
        "\n",
        "    variance_bootstrap_left_boundary, variance_bootstrap_right_boundary = \\\n",
        "    variance_sample - variance_bootstrap_half_interval, variance_sample + variance_bootstrap_half_interval\n",
        "\n",
        "    return variance_sample, (variance_bootstrap_left_boundary, variance_bootstrap_right_boundary)"
      ],
      "execution_count": 284,
      "outputs": []
    },
    {
      "cell_type": "code",
      "metadata": {
        "id": "4OWUmZlOTpZf"
      },
      "source": [
        "n_resamples = n\n",
        "n_bootstraps = 100\n",
        "alpha = 0.05"
      ],
      "execution_count": 285,
      "outputs": []
    },
    {
      "cell_type": "code",
      "metadata": {
        "colab": {
          "base_uri": "https://localhost:8080/"
        },
        "id": "q8jeEPax9Q31",
        "outputId": "8eac30a5-584f-49e9-8085-0e32c3278c30"
      },
      "source": [
        "var, (lower, upper) = calculate_variance_bootstrap_interval(sample_part, n_resamples, n_bootstraps, alpha)\n",
        "print(f\"Variance {var:.3f} with confident interval ({lower:.3f}, {upper:.3f})\")"
      ],
      "execution_count": 286,
      "outputs": [
        {
          "output_type": "stream",
          "name": "stdout",
          "text": [
            "Variance 84.722 with confident interval (66.231, 103.213)\n"
          ]
        }
      ]
    },
    {
      "cell_type": "code",
      "metadata": {
        "id": "IhFH8CUvVpVz"
      },
      "source": [
        "var_bootstrap_ci = (var, (lower, upper))"
      ],
      "execution_count": 287,
      "outputs": []
    },
    {
      "cell_type": "markdown",
      "metadata": {
        "id": "_OlAPT3y9Q31"
      },
      "source": [
        "## Part 4. Comparison with true values (1 point)\n",
        "\n",
        "Compare with estimates calculated over full sample. Write conclusion about estimates and their confidence intervals obtained without and with bootstrap. Also, you can share some conclusions about moscow weather :)"
      ]
    },
    {
      "cell_type": "code",
      "metadata": {
        "id": "yM7tI0sZ9Q31"
      },
      "source": [
        "mean_full = np.mean(sample_full)\n",
        "median_full = np.median(sample_full)\n",
        "var_full = np.var(sample_full)\n",
        "mode_full = stats.mode(sample_full)[0][0]\n",
        "skewness_full = stats.skew(sample_full)"
      ],
      "execution_count": 288,
      "outputs": []
    },
    {
      "cell_type": "code",
      "metadata": {
        "colab": {
          "base_uri": "https://localhost:8080/"
        },
        "id": "K3abVFJFUCoD",
        "outputId": "3eb75ba9-7ea3-4fe7-f16c-e25e1b98f978"
      },
      "source": [
        "print(f\"Mean {mean_full:.3f}, median {median_full:.3f}, variance {var_full:.3f}, mode {mode_full:.3f}, skewness {skewness_full:.3f}\")"
      ],
      "execution_count": 289,
      "outputs": [
        {
          "output_type": "stream",
          "name": "stdout",
          "text": [
            "Mean 2.616, median 3.000, variance 89.005, mode 0.000, skewness -0.475\n"
          ]
        }
      ]
    },
    {
      "cell_type": "markdown",
      "metadata": {
        "id": "nVR8vDAYWADz"
      },
      "source": [
        "We can see that both parametric and bootstrap confidence intervals cover the true mean, but bootstrap interval is tighter"
      ]
    },
    {
      "cell_type": "code",
      "metadata": {
        "colab": {
          "base_uri": "https://localhost:8080/"
        },
        "id": "uZdC4A7uVvzX",
        "outputId": "285574f8-4e2d-42f0-ef92-c9c41687064c"
      },
      "source": [
        "mean_parametric_ci[1]"
      ],
      "execution_count": 290,
      "outputs": [
        {
          "output_type": "execute_result",
          "data": {
            "text/plain": [
              "(1.5335177796201356, 4.813589658396394)"
            ]
          },
          "metadata": {},
          "execution_count": 290
        }
      ]
    },
    {
      "cell_type": "code",
      "metadata": {
        "colab": {
          "base_uri": "https://localhost:8080/"
        },
        "id": "hMn2bJoxV3-A",
        "outputId": "0f610a34-9d0a-45f5-88aa-078091920dd2"
      },
      "source": [
        "mean_bootstrap_ci[1]"
      ],
      "execution_count": 291,
      "outputs": [
        {
          "output_type": "execute_result",
          "data": {
            "text/plain": [
              "(1.608675770398999, 4.73843166761753)"
            ]
          },
          "metadata": {},
          "execution_count": 291
        }
      ]
    },
    {
      "cell_type": "markdown",
      "metadata": {
        "id": "ZWYyh0vEWdP5"
      },
      "source": [
        "The same is true for variance confidence intervals"
      ]
    },
    {
      "cell_type": "code",
      "metadata": {
        "colab": {
          "base_uri": "https://localhost:8080/"
        },
        "id": "0iP9YH2HWZkp",
        "outputId": "fdb24f4a-9ee2-4bce-d1f6-c6c53ba1cd48"
      },
      "source": [
        "var_parametric_ci[1]"
      ],
      "execution_count": 292,
      "outputs": [
        {
          "output_type": "execute_result",
          "data": {
            "text/plain": [
              "(67.34945732292948, 111.94779531526436)"
            ]
          },
          "metadata": {},
          "execution_count": 292
        }
      ]
    },
    {
      "cell_type": "code",
      "metadata": {
        "colab": {
          "base_uri": "https://localhost:8080/"
        },
        "id": "RMiNoqZ-WglW",
        "outputId": "93f07159-b3eb-473a-c62c-a54d2a563332"
      },
      "source": [
        "var_bootstrap_ci[1]"
      ],
      "execution_count": 293,
      "outputs": [
        {
          "output_type": "execute_result",
          "data": {
            "text/plain": [
              "(66.230585819409, 103.21330462523277)"
            ]
          },
          "metadata": {},
          "execution_count": 293
        }
      ]
    },
    {
      "cell_type": "markdown",
      "metadata": {
        "id": "9lRV6at4WnrP"
      },
      "source": [
        "But not for median confidence intervals"
      ]
    },
    {
      "cell_type": "code",
      "metadata": {
        "colab": {
          "base_uri": "https://localhost:8080/"
        },
        "id": "zN9ipzAGWncC",
        "outputId": "e99973b3-b6f8-4156-cbad-993485884ce3"
      },
      "source": [
        "median_parametric_ci[1]"
      ],
      "execution_count": 294,
      "outputs": [
        {
          "output_type": "execute_result",
          "data": {
            "text/plain": [
              "(1.9445197714593507, 6.055480228540649)"
            ]
          },
          "metadata": {},
          "execution_count": 294
        }
      ]
    },
    {
      "cell_type": "code",
      "metadata": {
        "colab": {
          "base_uri": "https://localhost:8080/"
        },
        "id": "k4mozpXWWnNI",
        "outputId": "3ff10c2c-d2eb-47d8-fd05-4f1bccebbefd"
      },
      "source": [
        "median_bootstrap_ci[1]"
      ],
      "execution_count": 295,
      "outputs": [
        {
          "output_type": "execute_result",
          "data": {
            "text/plain": [
              "(1.6899847516030961, 6.310015248396904)"
            ]
          },
          "metadata": {},
          "execution_count": 295
        }
      ]
    },
    {
      "cell_type": "markdown",
      "metadata": {
        "id": "MqSkwx3a9Q31"
      },
      "source": [
        "## Part 5. Confidence intervals and sample size (8 points)\n",
        "\n",
        "Compare the size of confidence intervals **for the mean** obtained without and with bootstrap. Additionally, compare the empirical coverage of different confidence intervals (by generating sufficient number of samples of corresponding size and calculating proportion of cases when the interval covers the mean of the full sample). Consider sizes `[42, 84, 168, 335, 670, 1340]`. Plot results and make conclusion about their accuracy."
      ]
    },
    {
      "cell_type": "code",
      "metadata": {
        "id": "JjIvqVWCgK4O"
      },
      "source": [
        "from tqdm import tqdm"
      ],
      "execution_count": 296,
      "outputs": []
    },
    {
      "cell_type": "code",
      "metadata": {
        "id": "Gf2AZOYx9Q31"
      },
      "source": [
        "# np.random.seed(476)\n",
        "np.random.seed(5)\n",
        "sizes = np.r_[42, 84, 168, 335, 670, 1340]"
      ],
      "execution_count": 297,
      "outputs": []
    },
    {
      "cell_type": "code",
      "metadata": {
        "id": "K9pVNZfjfmIW"
      },
      "source": [
        "n_bootstraps = 100\n",
        "alpha = 0.05"
      ],
      "execution_count": 298,
      "outputs": []
    },
    {
      "cell_type": "code",
      "metadata": {
        "colab": {
          "base_uri": "https://localhost:8080/"
        },
        "id": "n-3pq5hg9Q32",
        "outputId": "53eec961-b8db-48d7-b90f-dcacbc67787d"
      },
      "source": [
        "n_sample_parts = 200\n",
        "n_parametric_ci_covers, n_bootstrap_ci_covers = [], []\n",
        "track_parametric_ci_per_size, track_bootstrap_ci_per_size = [], []\n",
        "\n",
        "for size in tqdm(sizes):\n",
        "    n_resamples = size\n",
        "    n_parametric_ci_cover = n_bootstrap_ci_cover = 0\n",
        "    track_parametric_ci = track_bootstrap_ci = 0\n",
        "    \n",
        "    for _ in range(n_sample_parts):\n",
        "        sample_part = np.random.choice(sample_full, size, replace=False)\n",
        "\n",
        "        # parametric interval\n",
        "        mean_parametric_ci = calculate_mean_parametric_interval(sample_part, alpha)\n",
        "        mean_parametric_ci_left_boundary, mean_parametric_ci_right_boundary = mean_parametric_ci[1]\n",
        "\n",
        "        track_parametric_ci += mean_parametric_ci_right_boundary - mean_parametric_ci_left_boundary\n",
        "        n_parametric_ci_cover += int(mean_parametric_ci_left_boundary < mean_full < mean_parametric_ci_right_boundary)\n",
        "\n",
        "        # bootstrap interval\n",
        "        mean_bootstrap_ci = calculate_mean_bootstrap_interval(sample_part, n_resamples, n_bootstraps, alpha)\n",
        "        mean_bootstrap_ci_left_boundary, mean_bootstrap_ci_right_boundary = mean_bootstrap_ci[1]\n",
        "\n",
        "        track_bootstrap_ci += mean_bootstrap_ci_right_boundary - mean_bootstrap_ci_left_boundary\n",
        "        n_bootstrap_ci_cover += int(mean_bootstrap_ci_left_boundary < mean_full < mean_bootstrap_ci_right_boundary)\n",
        "    \n",
        "    track_parametric_ci_per_size.append(track_parametric_ci / n_sample_parts)\n",
        "    track_bootstrap_ci_per_size.append(track_bootstrap_ci / n_sample_parts)\n",
        "    \n",
        "    n_parametric_ci_covers.append(n_parametric_ci_cover / n_sample_parts)\n",
        "    n_bootstrap_ci_covers.append(n_bootstrap_ci_cover / n_sample_parts)"
      ],
      "execution_count": 299,
      "outputs": [
        {
          "output_type": "stream",
          "name": "stderr",
          "text": [
            "100%|██████████| 6/6 [00:08<00:00,  1.46s/it]\n"
          ]
        }
      ]
    },
    {
      "cell_type": "code",
      "metadata": {
        "colab": {
          "base_uri": "https://localhost:8080/",
          "height": 504
        },
        "id": "Lr565OFQ9Q32",
        "outputId": "d4138f27-5c26-48df-f6e0-42e055fbabb6"
      },
      "source": [
        "plt.figure(figsize=(12, 8))\n",
        "plt.plot(track_parametric_ci_per_size, marker='o')\n",
        "plt.plot(track_bootstrap_ci_per_size, marker='o')\n",
        "\n",
        "plt.xlabel('part sample size', fontsize=14)\n",
        "plt.ylabel('interval length', fontsize=14)\n",
        "\n",
        "plt.xticks(list(range(len(sizes))), sizes)\n",
        "plt.legend(['parametric', 'pure bootstrap'], fontsize=14)\n",
        "plt.grid()\n",
        "plt.show()"
      ],
      "execution_count": 300,
      "outputs": [
        {
          "output_type": "display_data",
          "data": {
            "image/png": "[encoded data removed]",
            "text/plain": [
              "<Figure size 864x576 with 1 Axes>"
            ]
          },
          "metadata": {
            "needs_background": "light"
          }
        }
      ]
    },
    {
      "cell_type": "code",
      "metadata": {
        "colab": {
          "base_uri": "https://localhost:8080/",
          "height": 504
        },
        "id": "gvE4fG2J9Q32",
        "outputId": "0097aa4f-c039-465c-f155-40a185be7c77"
      },
      "source": [
        "plt.figure(figsize=(12, 8))\n",
        "plt.plot(n_parametric_ci_covers, marker='o')\n",
        "plt.plot(n_bootstrap_ci_covers, marker='o')\n",
        "\n",
        "plt.xlabel('part sample size', fontsize=14)\n",
        "plt.ylabel('coverage of true mean', fontsize=14)\n",
        "\n",
        "plt.xticks(list(range(len(sizes))), sizes)\n",
        "plt.legend(['parametric', 'pure bootstrap'], fontsize=14)\n",
        "plt.grid()\n",
        "plt.show()"
      ],
      "execution_count": 301,
      "outputs": [
        {
          "output_type": "display_data",
          "data": {
            "image/png": "[encoded data removed]",
            "text/plain": [
              "<Figure size 864x576 with 1 Axes>"
            ]
          },
          "metadata": {
            "needs_background": "light"
          }
        }
      ]
    },
    {
      "cell_type": "markdown",
      "metadata": {
        "id": "NG1INRiE9Q32"
      },
      "source": [
        "We can see that bootstrap confidence intervals has almost the same length as parametric ones, while parametric intervals generally provide better coverage. Length of the interval is decreasing with number of samples, while coverage is increasing, yet not gradually."
      ]
    },
    {
      "cell_type": "markdown",
      "metadata": {
        "id": "g2m32pQC9Q32"
      },
      "source": [
        "# Task 2. Currency in RC-circuit (25 points)\n",
        "\n",
        "In this part you need to estimate parameters and apply delta method. \n",
        "\n",
        "First of all, you will need some libraries. Also, fix random seed to get reproducible results."
      ]
    },
    {
      "cell_type": "code",
      "metadata": {
        "id": "9xNuV12n9Q32"
      },
      "source": [
        "import numpy as np\n",
        "from scipy import stats\n",
        "\n",
        "np.random.seed(100)"
      ],
      "execution_count": 218,
      "outputs": []
    },
    {
      "cell_type": "code",
      "metadata": {
        "colab": {
          "base_uri": "https://localhost:8080/"
        },
        "id": "Cm_MiO48mWCA",
        "outputId": "a39606df-e057-4484-cb8f-de0522c414b4"
      },
      "source": [
        "from google.colab import drive\n",
        "drive.mount('/content/gdrive')"
      ],
      "execution_count": 219,
      "outputs": [
        {
          "output_type": "stream",
          "name": "stdout",
          "text": [
            "Drive already mounted at /content/gdrive; to attempt to forcibly remount, call drive.mount(\"/content/gdrive\", force_remount=True).\n"
          ]
        }
      ]
    },
    {
      "cell_type": "code",
      "metadata": {
        "colab": {
          "base_uri": "https://localhost:8080/"
        },
        "id": "6FTn3eIsmWCA",
        "outputId": "3895d4d5-1837-4c93-f838-dab4bd09b9a7"
      },
      "source": [
        "%cd '/content/gdrive/MyDrive/Colab Notebooks/Principles of Applied Statistics/homework-1'"
      ],
      "execution_count": 220,
      "outputs": [
        {
          "output_type": "stream",
          "name": "stdout",
          "text": [
            "/content/gdrive/MyDrive/Colab Notebooks/Principles of Applied Statistics/homework-1\n"
          ]
        }
      ]
    },
    {
      "cell_type": "markdown",
      "metadata": {
        "id": "s5s1qgCM9Q33"
      },
      "source": [
        "## Part 1. Estimate parameters (4 points)"
      ]
    },
    {
      "cell_type": "code",
      "metadata": {
        "colab": {
          "base_uri": "https://localhost:8080/",
          "height": 300
        },
        "id": "zh-XbjpGnhzA",
        "outputId": "79a3d9f0-a0f0-4442-d314-58088fa33631"
      },
      "source": [
        "from IPython.display import Image\n",
        "Image(filename='circuit.png', width=200)"
      ],
      "execution_count": 221,
      "outputs": [
        {
          "output_type": "execute_result",
          "data": {
            "image/png": "[encoded data removed]",
            "text/plain": [
              "<IPython.core.display.Image object>"
            ]
          },
          "metadata": {
            "image/png": {
              "width": 200
            }
          },
          "execution_count": 221
        }
      ]
    },
    {
      "cell_type": "markdown",
      "metadata": {
        "id": "vXlvY8yB9Q33"
      },
      "source": [
        "Assume that there is an RC-circuit with a capacitor and a resistor.\n",
        "\n",
        "We charge the capacitor until it reaches voltage $V$ and measure current intensity. In this case voltage on the capacitor yields the formula for exponential decay:\n",
        "\n",
        "$$ V_C(t) = V e^{-\\frac{t}{RC}} $$\n",
        "\n",
        "Let's assume that voltage $V$ and resistence $R$ are independent and belong to the following distributions:\n",
        "\n",
        "### a) \n",
        "$V \\sim \\mathcal{N}(4, 1)$, \n",
        "\n",
        "$R \\sim \\mathcal{U}(6, 11)$\n",
        "\n",
        "### b) \n",
        "$V \\sim \\mathcal{N}(17, 3)$, \n",
        "\n",
        "$R \\sim \\text{Exp}(22)$\n",
        "\n",
        "Consider **true values** for $V$ and $R$ to be the means of the corresponding distributions."
      ]
    },
    {
      "cell_type": "markdown",
      "metadata": {
        "id": "1pyxA03r9Q33"
      },
      "source": [
        "Generate sample for $V$ of size 100. Apply maximum likelihood to estimate the mean. Show theoretical calculations for the estimates (with intermediate steps) and make simulation.\n",
        "\n",
        "---\n",
        "\n",
        "## MLE mean estimation for normal distribution\n",
        "Let us denote the mean $\\mathbb{E}V = \\mu$ and the variance $\\mathbb{D}V = \\sigma^2$ of given distribution. Then we can write\n",
        "\n",
        "$$f(x, \\mu) = \\frac{1}{\\sqrt{2\\pi\\sigma^2}}\\exp\\left(-\\frac{(x - \\mu)^2}{2\\sigma^2}\\right)$$\n",
        "$$\\hat\\mu_n = \\text{arg}\\max_{\\mu}\\mathcal{L}(x, \\mu) = \\text{arg}\\max_{\\mu}\\sum\\limits_{i = 1}^n \\log f(x_i, \\mu) = \n",
        "\\text{arg}\\min_{\\mu}\\sum\\limits_{i = 1}^n \\frac{(x_i - \\mu)^2}{2\\sigma^2} = \n",
        "\\text{arg}\\min_{\\mu}\\sum\\limits_{i = 1}^n (x_i - \\mu)^2$$\n",
        "$$\\frac{\\partial \\mathcal{L}}{\\partial \\mu} = 2\\sum\\limits_{i = 1}^n (\\mu - x_i) = \n",
        "2\\left[n\\mu - \\sum\\limits_{i = 1}^n x_i\\right] = 0 \\Longrightarrow n\\mu = \\sum\\limits_{i = 1}^n x_i,\\;\n",
        "\\hat\\mu = \\frac{1}{n}\\sum\\limits_{i = 1}^n x_i$$"
      ]
    },
    {
      "cell_type": "markdown",
      "metadata": {
        "id": "IlkHtfJ49Q33"
      },
      "source": [
        "Generate sample for $R$ on size 100. Apply maximum likelihood to estimate the mean. Show theoretical calculations for estimates (with intermediate steps) and make simulation.\n",
        "\n",
        "---\n",
        "\n",
        "## MLE mean estimation for uniform distribution\n",
        "\n",
        "Let us denote the left and right ends of interval as $a$ and $b$ correspondingly, while the mean $\\mathbb{E}R = \\mu$ and \n",
        "the variance $\\mathbb{D}R = \\sigma^2$. We can first estimate the parameters of uniform distribution\n",
        "\n",
        "$$f(x, a, b) = \\frac{\\mathbb{I}_{[a, b]}(x)}{b - a}$$\n",
        "$$\\hat{a}_n, \\hat{b}_n = \\text{arg}\\max_{a, b}\\mathcal{L}(x, a, b) = \\text{arg}\\max_{a, b}\\prod\\limits_{i = 1}^n f(x_i, a, b) = \n",
        "\\text{arg}\\max_{a, b}\\prod\\limits_{i = 1}^n \\frac{\\mathbb{I}_{[a, b]}(x_i)}{b - a} =$$\n",
        "$$= \\text{arg}\\max_{a, b}\\frac{1}{(b - a)^n}\\prod\\limits_{i = 1}^n\\mathbb{I}_{[-\\infty, b]}(x_i)\n",
        "\\prod\\limits_{j = 1}^n\\mathbb{I}_{[a, \\infty]}(x_j) = \\text{arg}\\max_{a, b}\\frac{1}{(b - a)^n}\n",
        "\\mathbb{I}_{(-\\infty, b]}(x_{(n)})\\mathbb{I}_{[a, +\\infty)}(x_{(1)})$$\n",
        "\n",
        "Since the objective is monotonically decreasing with $b$ until $x_{(n)}$, we get $\\hat{b} = x_{(n)}$. Moreover, since the objective is monotonically increasing with $a$ until $x_{(1)}$, we get $\\hat{a} = x_{(1)}$.\n",
        "\n",
        "Finally, let us express the desired mean $\\mu$ through the parameters $a$ and $b$ as $\\mu = g(a, b) = \\cfrac{a + b}{2}$ and then use \n",
        "the equivariance of MLE\n",
        "\n",
        "$$\\hat\\mu = g(\\hat{a}, \\hat{b}) = \\frac{\\hat{a} + \\hat{b}}{2} = \\frac{x_{(1)} + x_{(n)}}{2}$$\n"
      ]
    },
    {
      "cell_type": "code",
      "metadata": {
        "id": "i63ktbSz7irh"
      },
      "source": [
        "# a)\n",
        "n = 100\n",
        "\n",
        "v_mean, v_variance = 4, 1\n",
        "r_left, r_right = 6, 11\n",
        "r_mean = (r_left + r_right) / 2\n",
        "\n",
        "v_sample = np.random.randn(n) * v_variance + v_mean\n",
        "r_sample = np.random.rand(n) * (r_right - r_left) + r_left\n",
        "\n",
        "v_mean_estimated = np.mean(v_sample)\n",
        "r_mean_estimated = np.mean(r_sample)"
      ],
      "execution_count": 222,
      "outputs": []
    },
    {
      "cell_type": "code",
      "metadata": {
        "colab": {
          "base_uri": "https://localhost:8080/"
        },
        "id": "TvNGI69K8IN-",
        "outputId": "f0b95878-a306-475e-ccc5-bb3ea52c45bb"
      },
      "source": [
        "print(f'True mean {v_mean:.3f} of V vs estimated mean {v_mean_estimated:.3f} of V')"
      ],
      "execution_count": 223,
      "outputs": [
        {
          "output_type": "stream",
          "name": "stdout",
          "text": [
            "True mean 4.000 of V vs estimated mean 3.896 of V\n"
          ]
        }
      ]
    },
    {
      "cell_type": "code",
      "metadata": {
        "colab": {
          "base_uri": "https://localhost:8080/"
        },
        "id": "Ibz5x6il8IuO",
        "outputId": "a5b6acf1-08f5-4af6-a04b-ad811dffe7ea"
      },
      "source": [
        "print(f'True mean {r_mean:.3f} of R vs estimated mean {r_mean_estimated:.3f} of R')"
      ],
      "execution_count": 224,
      "outputs": [
        {
          "output_type": "stream",
          "name": "stdout",
          "text": [
            "True mean 8.500 of R vs estimated mean 8.611 of R\n"
          ]
        }
      ]
    },
    {
      "cell_type": "markdown",
      "metadata": {
        "id": "3iefdsjB0Lc7"
      },
      "source": [
        "## MLE mean estimation for exponential distribution\n",
        "\n",
        "Let us denote the mean $\\mathbb{E}R = \\mu$. We can first estimate the parameter $\\lambda$ of exponential distribution\n",
        "\n",
        "$$f(x, \\lambda) = \\lambda \\exp(-\\lambda x)\\mathbb{I}_{[0, +\\infty)}(x)$$\n",
        "$$\\hat\\lambda_n = \\text{arg}\\max_{\\lambda}\\mathcal{L}(x, \\lambda) = \\text{arg}\\max_{\\lambda}\\prod\\limits_{i = 1}^n f(x_i, \\lambda) = \n",
        "\\text{arg}\\max_{\\lambda}\\prod\\limits_{i = 1}^n \\lambda \\exp(-\\lambda x_i)\\mathbb{I}_{[0, +\\infty)}(x_i) =$$\n",
        "$$= \\text{arg}\\max_{\\lambda}\\prod\\limits_{i = 1}^n \\lambda \\exp(-\\lambda x_i)\\prod\\limits_{i = 1}^n \\mathbb{I}_{[0, +\\infty)}(x_i) = \n",
        "\\text{arg}\\max_{\\lambda}\\lambda^n \\exp\\left(-\\lambda \\sum\\limits_{i = 1}^n x_i\\right)\\mathbb{I}_{[0, +\\infty)}(x_{(1)}) =$$\n",
        "$$= \\text{arg}\\max_{\\lambda}\\left(n\\log\\lambda -\\lambda \\sum\\limits_{i = 1}^n x_i\\right)\\mathbb{I}_{[0, +\\infty)}(x_{(1)})$$\n",
        "$$\\frac{\\partial\\mathcal{L}}{\\partial\\lambda}\\bigg|_{x_{(1)} \\in [0, +\\infty)} = \\frac{n}{\\lambda} - \\sum\\limits_{i = 1}^n x_i = 0 \n",
        "\\Longrightarrow \\frac{1}{\\hat\\lambda} = \\frac{1}{n}\\sum\\limits_{i = 1}^n x_i,\\;\\hat\\lambda = n\\left(\\sum\\limits_{i = 1}^n x_i\\right)^{-1}$$\n",
        "\n",
        "Finally, let us express the desired mean $\\mu$ through the parameters $\\lambda$ as $\\mu = g(\\lambda) = \\cfrac{1}{\\lambda}$ and then use \n",
        "the equivariance of MLE\n",
        "\n",
        "$$\\hat\\mu = g(\\hat\\lambda) = \\frac{1}{\\hat\\lambda} = \\frac{1}{n}\\sum\\limits_{i = 1}^n x_i$$"
      ]
    },
    {
      "cell_type": "markdown",
      "metadata": {
        "id": "KF7oeyaW9Q33"
      },
      "source": [
        "## Part 2. Apply delta method (8 points)"
      ]
    },
    {
      "cell_type": "markdown",
      "metadata": {
        "id": "JQJoA9zd9Q34"
      },
      "source": [
        "Assume, that we measure current intensity after 1 second. Let's take $C = 1$. In this case we get the following simplified formula\n",
        "\n",
        "$$I = \\frac{V}{R} \\exp(-1/R)$$\n",
        "\n",
        "Find estimate for current and it's confidence interval. Show theoretical calculations for estimates (with intermediate steps) and make simulation.\n",
        "\n",
        "---\n",
        "\n",
        "As I understand, we have to provide the estimation for parameter $I$ which represents a specific function of the true values of \n",
        "variables $V$ and $R$ aka the means of their corresponding distributions. So we can use the equivariance of MLE and write the following \n",
        "statement (here $I = \\tau$)\n",
        "\n",
        "$$\\tau = g(\\mu_V, \\mu_R) = \\frac{\\mu_V}{\\mu_R} \\exp(-1/\\mu_R) \\Longrightarrow \\hat{\\tau}_n = \n",
        "g(\\hat\\mu_V, \\hat\\mu_R) = \\frac{\\hat\\mu_V}{\\hat\\mu_R} \\exp(-1/\\hat\\mu_R)$$\n",
        "\n",
        "In order to construct the confidence interval for this estimation we can use delta method\n",
        "\n",
        "$$\\hat\\nabla g = \\nabla g(\\hat\\mu_V, \\hat\\mu_R) = \\left(\\frac{\\partial g}{\\partial\\mu_V}, \\frac{\\partial g}{\\partial\\mu_R}\\right)\n",
        "\\Bigg|_{\\hat\\mu_V,\\,\\hat\\mu_R} = \\left(\\frac{\\exp(-1/\\hat\\mu_R)}{\\hat\\mu_R}, \n",
        "\\frac{\\hat\\mu_V\\exp(-1/\\hat\\mu_R)(1 / \\hat\\mu_R - 1)}{\\hat\\mu_R^2}\\right)$$\n",
        "\n",
        "Now we need to find the variance of the mean estimation $\\hat\\mu_R$ for uniform distribution. For convenience of the futher derivation, let us \n",
        "first introduce standard uniform variables $y_i = \\cfrac{x_i - a}{b - a}$, then every order statistic $x_{(i)}$ is standardized in the same \n",
        "way.\n",
        "\n",
        "Let us find the variance of the first order statistic $y_{(1)}$\n",
        "\n",
        "$$F_{(1)}(x) = \\mathbb{P}(y_{(1)} < x) = 1 - \\mathbb{P}(y_{(1)} > x) = 1 - \\mathbb{P}(y_{n} > x)^n = \n",
        "1 - \\Big[1 - \\mathbb{P}(y_{n} < x)\\Big]^n = 1 - (1 - x)^n$$\n",
        "$$\\frac{dF_{(1)}}{dx} = n(1 - x)^{n - 1},\\;\\mathbb{E}y_{(1)} = \\int\\limits_0^1 nx(1 - x)^{n - 1}dx = \\int\\limits_0^1 n(1 - x)x^{n - 1}dx =$$\n",
        "$$= \\int\\limits_0^1 nx^{n - 1}dx - \\int\\limits_0^1 nx^n dx = 1 - \\frac{n}{n + 1} = \\frac{1}{n + 1}$$\n",
        "$$\\mathbb{E}y_{(1)}^2 = \\int\\limits_0^1 nx^2(1 - x)^{n - 1}dx = \\int\\limits_0^1 n(1 - x)^2 x^{n - 1}dx =$$\n",
        "$$= \\int\\limits_0^1 nx^{n - 1}dx - 2\\int\\limits_0^1 nx^n dx + \\int\\limits_0^1 nx^{n + 1}dx = 1 - \\frac{2n}{n + 1} + \\frac{n}{n + 2}$$\n",
        "$$\\mathbb{D}y_{(1)} = \\mathbb{E}y_{(1)}^2 - \\Big[\\mathbb{E}y_{(1)}\\Big]^2 = \n",
        "1 - \\frac{2n}{n + 1} + \\frac{n}{n + 2} - \\frac{1}{(n + 1)^2} = ... = \\frac{n}{(n + 1)^2(n + 2)}$$\n",
        "\n",
        "Futher, the variance of the n'th order statistic $y_{(n)}$\n",
        "\n",
        "$$F_{(n)}(x) = \\mathbb{P}(y_{(n)} < x) = \\mathbb{P}(y_{n} < x)^n = x^n$$\n",
        "$$\\frac{dF_{(n)}}{dx} = nx^{n - 1},\\;\\mathbb{E}y_{(n)} = \\int\\limits_0^1 nx^{n}dx = \\frac{n}{n + 1},\\;\n",
        "\\mathbb{E}y_{(n)}^2 = \\int\\limits_0^1 nx^{n + 1}dx = \\frac{n}{n + 2}$$\n",
        "$$\\mathbb{D}y_{(n)} = \\mathbb{E}y_{(n)}^2 - \\Big[\\mathbb{E}y_{(n)}\\Big]^2 = \n",
        "\\frac{n}{n + 2} - \\frac{n^2}{(n + 1)^2} = ... = \\frac{n}{(n + 1)^2(n + 2)}$$\n",
        "\n",
        "And the covariance according to https://math.stackexchange.com/questions/400677/covariance-of-order-statistics-uniform-case\n",
        "$$\\text{cov}\\Big[y_{(1)}, y_{(n)}\\Big] = \\frac{n^2}{(n + 1)^2(n + 2)}$$\n",
        "\n",
        "Spending a couple of years on the derivation of these formulas and finding the expression for the covariance of order statistics of uniform distribution, we can write the variance of estimation $\\mu_R$\n",
        "\n",
        "$$\\mathbb{D}\\hat\\mu_R = \\frac{1}{4}\\mathbb{D}\\Big[x_{(1)} + x_{(n)}\\Big] = \\frac{(b - a)^2}{4}\\mathbb{D}\\Big[y_{(1)} + y_{(n)}\\Big] =$$\n",
        "$$= \\frac{(b - a)^2}{4}\\Big[\\mathbb{D}y_{(1)} + \\mathbb{D}y_{(n)} + 2\\text{cov}\\Big[y_{(1)}, y_{(n)}\\Big]\\Big] = \n",
        "\\frac{n(b - a)^2}{2(n + 1)(n + 2)}$$\n",
        "\n",
        "Moreover, the variance of estimation $\\mu_V$ is the following\n",
        "\n",
        "$$\\mathbb{D}\\hat\\mu_V = \\frac{\\mathbb{D}V}{n} = \\frac{\\sigma^2}{n}$$\n",
        "\n",
        "Since we should pretend that we do not know the parameters of normal and uniform distribution, we just need to exploit \n",
        "the MLE and plug the found estimations into the obtained expressions\n",
        "\n",
        "$$\\hat{a}_n = x_{(1)},\\;\\hat{b}_n = x_{(n)} \\Longrightarrow \n",
        "\\mathbb{D}\\hat\\mu_R \\approx \\frac{n(\\hat{b}_n - \\hat{a}_n)^2}{2(n + 1)(n + 2)}$$\n",
        "$$\\hat\\sigma^2 = \\frac{1}{n}\\sum\\limits_{i = 1}^n(x_i - \\hat\\mu_n)^2 \\Longrightarrow \n",
        "\\mathbb{D}\\hat\\mu_V \\approx \\frac{\\hat\\sigma^2_n}{n}$$\n",
        "\n",
        "Now also have to plug the found characteristics into the matrix $J$ and obtain $\\hat{J}$\n",
        "\n",
        "$$\\hat{J} = J(\\hat\\mu_V, \\hat\\mu_R) = \\begin{bmatrix}\n",
        "\\mathbb{D}\\hat\\mu_V & 0 \\\\\n",
        "0 & \\mathbb{D}\\hat\\mu_R\n",
        "\\end{bmatrix} \\Longrightarrow \\sigma(\\hat\\tau) = \\sqrt{(\\hat\\nabla g)^T\\hat{J}\\hat\\nabla g}$$\n",
        "\n",
        "After these preparations we can write\n",
        "\n",
        "$$\\mathbb{P}\\Bigg(-z_{1 - \\alpha/2} < \\frac{\\hat\\tau_n - \\tau}{\\sigma(\\hat\\tau_n)} < z_{1 - \\alpha/2}\\Bigg) \\longrightarrow 1 - \\alpha$$\n",
        "\n",
        "And the necessary asymptotic confidence interval can be expressed as follows\n",
        "$$ \\text{CI}(\\tau) = \\Big(\\hat\\tau_n - z_{1 - \\alpha/2}\\sigma(\\hat\\tau_n), \\hat\\tau_n + z_{1 - \\alpha/2}\\sigma(\\hat\\tau_n)\\Big)$$"
      ]
    },
    {
      "cell_type": "code",
      "metadata": {
        "id": "TcjJpe67sOXd"
      },
      "source": [
        "def calculate_functional_parametric_interval(sample_normal, sample_uniform, alpha):\n",
        "    quantile = stats.norm.ppf(1 - alpha / 2)\n",
        "\n",
        "    estimation_normal = np.mean(sample_normal)\n",
        "    estimation_uniform = (min(sample_uniform) + max(sample_uniform)) / 2\n",
        "\n",
        "    variance_normal = np.var(sample_normal, ddof=0) / len(sample_normal)\n",
        "    variance_uniform = len(sample_uniform) * (max(sample_uniform) - min(sample_uniform)) ** 2 / \\\n",
        "                              (2 * (len(sample_uniform) + 1) * (len(sample_uniform) + 2))\n",
        "\n",
        "    gradient_normal = np.exp(-1 / estimation_uniform) / estimation_uniform\n",
        "    gradient_uniform = estimation_normal * np.exp(-1 / estimation_uniform) * (1 / estimation_uniform - 1) / estimation_uniform ** 2\n",
        "    \n",
        "    J = np.diag([variance_normal, variance_uniform])\n",
        "    gradient = np.array([gradient_normal, gradient_uniform])\n",
        "\n",
        "    scaling_coefficient = np.sqrt(np.inner(gradient, J @ gradient.T))\n",
        "    half_interval = quantile * scaling_coefficient\n",
        "\n",
        "    estimation_functional = estimation_normal / estimation_uniform * np.exp(-1 / estimation_uniform)\n",
        "    left_boundary, right_boundary = estimation_functional - half_interval, estimation_functional + half_interval\n",
        "\n",
        "    return estimation_functional, (left_boundary, right_boundary)"
      ],
      "execution_count": 225,
      "outputs": []
    },
    {
      "cell_type": "code",
      "metadata": {
        "colab": {
          "base_uri": "https://localhost:8080/"
        },
        "id": "-UiOJCqc4UMo",
        "outputId": "61ff5a69-1e35-4049-c4e1-aa1dcc062f06"
      },
      "source": [
        "functional, (lower, upper) = calculate_functional_parametric_interval(v_sample, r_sample, alpha)\n",
        "print(f\"Functional estimation {functional:.5f} with confidence interval ({lower:.5f}, {upper:.5f})\")"
      ],
      "execution_count": 226,
      "outputs": [
        {
          "output_type": "stream",
          "name": "stdout",
          "text": [
            "Functional estimation 0.40479 with confidence interval (0.37075, 0.43882)\n"
          ]
        }
      ]
    },
    {
      "cell_type": "code",
      "metadata": {
        "id": "m9A2bpDS7WWe"
      },
      "source": [
        "functional_parametric_ci = (functional, (lower, upper))"
      ],
      "execution_count": 227,
      "outputs": []
    },
    {
      "cell_type": "markdown",
      "metadata": {
        "id": "t9kBjqaa9Q34"
      },
      "source": [
        "## Part 3. Non-parametric bootstrap estimation (2 points)\n",
        "\n",
        "Estimate confidence interval for $I$ using non-parametric bootstrap."
      ]
    },
    {
      "cell_type": "code",
      "metadata": {
        "id": "0aWV-k8P4-hh"
      },
      "source": [
        "def calculate_functional_bootstrap_interval(sample_normal, sample_uniform, n_resamples, n_bootstraps, alpha):\n",
        "    estimations_over_functional_bootstraps = []\n",
        "\n",
        "    for i in range(n_bootstraps):\n",
        "        bootstrap_normal_distribution = np.random.choice(sample_normal, n_resamples, replace=True)\n",
        "        bootstrap_uniform_distribution = np.random.choice(sample_uniform, n_resamples, replace=True)\n",
        "\n",
        "        estimation_normal = np.mean(bootstrap_normal_distribution)\n",
        "        estimation_uniform = (min(bootstrap_uniform_distribution) + max(bootstrap_uniform_distribution)) / 2\n",
        "\n",
        "        estimation_functional = estimation_normal / estimation_uniform * np.exp(-1 / estimation_uniform)\n",
        "        estimations_over_functional_bootstraps.append(estimation_functional)\n",
        "    \n",
        "    quantile = stats.norm.ppf(1 - alpha / 2)\n",
        "\n",
        "    estimation_normal = np.mean(sample_normal)\n",
        "    estimation_uniform = (min(sample_uniform) + max(sample_uniform)) / 2\n",
        "\n",
        "    estimation_functional = estimation_normal / estimation_uniform * np.exp(-1 / estimation_uniform)\n",
        "    half_interval = quantile * np.sqrt(np.var(estimations_over_functional_bootstraps))\n",
        "    left_boundary, right_boundary = estimation_functional - half_interval, estimation_functional + half_interval\n",
        "\n",
        "    return estimation_functional, (left_boundary, right_boundary)"
      ],
      "execution_count": 228,
      "outputs": []
    },
    {
      "cell_type": "code",
      "metadata": {
        "id": "BBzhbZrE7yP0"
      },
      "source": [
        "n_resamples = len(v_sample)\n",
        "n_bootstraps = 100\n",
        "alpha = 0.05"
      ],
      "execution_count": 229,
      "outputs": []
    },
    {
      "cell_type": "code",
      "metadata": {
        "colab": {
          "base_uri": "https://localhost:8080/"
        },
        "id": "25DPbCz87iNk",
        "outputId": "62d93d7d-3b66-49db-9bae-d69f95508ad2"
      },
      "source": [
        "functional, (lower, upper) = calculate_functional_bootstrap_interval(v_sample, r_sample, n_resamples, n_bootstraps, alpha)\n",
        "print(f\"Functional estimation {functional:.5f} with confidence interval ({lower:.5f}, {upper:.5f})\")"
      ],
      "execution_count": 230,
      "outputs": [
        {
          "output_type": "stream",
          "name": "stdout",
          "text": [
            "Functional estimation 0.40479 with confidence interval (0.38395, 0.42563)\n"
          ]
        }
      ]
    },
    {
      "cell_type": "code",
      "metadata": {
        "id": "ZH0lXNv28UHC"
      },
      "source": [
        "functional_bootstrap_ci = (functional, (lower, upper))"
      ],
      "execution_count": 231,
      "outputs": []
    },
    {
      "cell_type": "markdown",
      "metadata": {
        "id": "olBlnKuy9Q35"
      },
      "source": [
        "## Part 4. Parametric bootstrap estimation (3 points)\n",
        "\n",
        "Estimate confidence interval for $I$ using parametric bootstrap."
      ]
    },
    {
      "cell_type": "code",
      "metadata": {
        "id": "qu8B6Kp78eNa"
      },
      "source": [
        "def calculate_functional_parametric_bootstrap_interval(sample_normal, sample_uniform, n_resamples, n_bootstraps, alpha):\n",
        "    estimations_over_functional_bootstraps = []\n",
        "    \n",
        "    estimation_normal_mean, estimation_normal_variance = np.mean(sample_normal), np.var(sample_normal, ddof=0)\n",
        "    estimation_uniform_left, estimation_uniform_right = min(sample_uniform), max(sample_uniform)\n",
        "\n",
        "    for i in range(n_bootstraps):\n",
        "        bootstrap_normal_distribution = np.random.randn(n_resamples) * estimation_normal_variance + estimation_normal_mean\n",
        "        bootstrap_uniform_distribution = np.random.rand(n_resamples) * (estimation_uniform_right - estimation_uniform_left) + estimation_uniform_left\n",
        "\n",
        "        estimation_normal = np.mean(bootstrap_normal_distribution)\n",
        "        estimation_uniform = (min(bootstrap_uniform_distribution) + max(bootstrap_uniform_distribution)) / 2\n",
        "\n",
        "        estimation_functional = estimation_normal / estimation_uniform * np.exp(-1 / estimation_uniform)\n",
        "        estimations_over_functional_bootstraps.append(estimation_functional)\n",
        "    \n",
        "    quantile = stats.norm.ppf(1 - alpha / 2)\n",
        "\n",
        "    estimation_normal = np.mean(sample_normal)\n",
        "    estimation_uniform = (min(sample_uniform) + max(sample_uniform)) / 2\n",
        "\n",
        "    estimation_functional = estimation_normal / estimation_uniform * np.exp(-1 / estimation_uniform)\n",
        "    half_interval = quantile * np.sqrt(np.var(estimations_over_functional_bootstraps))\n",
        "    left_boundary, right_boundary = estimation_functional - half_interval, estimation_functional + half_interval\n",
        "\n",
        "    return estimation_functional, (left_boundary, right_boundary)"
      ],
      "execution_count": 232,
      "outputs": []
    },
    {
      "cell_type": "code",
      "metadata": {
        "id": "mxCOYYwF-zWh"
      },
      "source": [
        "n_resamples = len(v_sample)\n",
        "n_bootstraps = 100\n",
        "alpha = 0.05"
      ],
      "execution_count": 233,
      "outputs": []
    },
    {
      "cell_type": "code",
      "metadata": {
        "colab": {
          "base_uri": "https://localhost:8080/"
        },
        "id": "nIdNc9Um9Q35",
        "outputId": "5f5cca89-d4ff-485f-9865-6e52ad9d1b9d"
      },
      "source": [
        "functional, (lower, upper) = calculate_functional_parametric_bootstrap_interval(v_sample, r_sample, n_resamples, n_bootstraps, alpha)\n",
        "print(f\"Functional estimation {functional:.5f} with confidence interval ({lower:.5f}, {upper:.5f})\")"
      ],
      "execution_count": 234,
      "outputs": [
        {
          "output_type": "stream",
          "name": "stdout",
          "text": [
            "Functional estimation 0.40479 with confidence interval (0.38581, 0.42376)\n"
          ]
        }
      ]
    },
    {
      "cell_type": "code",
      "metadata": {
        "id": "4GbJaPf6UnYz"
      },
      "source": [
        "functional_parametric_bootstrap_ci = (functional, (lower, upper))"
      ],
      "execution_count": 235,
      "outputs": []
    },
    {
      "cell_type": "markdown",
      "metadata": {
        "id": "nxRH8Ami9Q35"
      },
      "source": [
        "## Part 5. Compare results (8 points)"
      ]
    },
    {
      "cell_type": "markdown",
      "metadata": {
        "id": "P4MqT5N29Q35"
      },
      "source": [
        "Compare the size of confidence intervals obtained using delta method, parametric and non-parametric bootstrap. Additionally, compare the empirical coverage of different confidence intervals (by generating sufficient number of samples of corresponding size and calculating proportion of cases when the interval covers the true value for the current $I$). Consider sizes `[1e1, ..., 1e4]`. Plot results and make conclusion about their accuracy."
      ]
    },
    {
      "cell_type": "code",
      "metadata": {
        "id": "jlZDjjcndr7s"
      },
      "source": [
        "n = 200\n",
        "\n",
        "v_mean, v_variance = 4, 1\n",
        "r_left, r_right = 6, 11\n",
        "r_mean = (r_left + r_right) / 2\n",
        "\n",
        "v_sample = np.random.randn(n) * v_variance + v_mean\n",
        "r_sample = np.random.rand(n) * (r_right - r_left) + r_left"
      ],
      "execution_count": 236,
      "outputs": []
    },
    {
      "cell_type": "code",
      "metadata": {
        "id": "EQ8ipkwZPkTJ"
      },
      "source": [
        "np.random.seed(17)"
      ],
      "execution_count": 245,
      "outputs": []
    },
    {
      "cell_type": "code",
      "metadata": {
        "id": "oaXaZZdt9Q35"
      },
      "source": [
        "sizes = np.logspace(1, 4, 4).astype(np.int)"
      ],
      "execution_count": 246,
      "outputs": []
    },
    {
      "cell_type": "code",
      "metadata": {
        "colab": {
          "base_uri": "https://localhost:8080/"
        },
        "id": "98smAw9lTf-U",
        "outputId": "ac799c62-74b6-449a-ab48-7ec4f4940831"
      },
      "source": [
        "sizes"
      ],
      "execution_count": 247,
      "outputs": [
        {
          "output_type": "execute_result",
          "data": {
            "text/plain": [
              "array([   10,   100,  1000, 10000])"
            ]
          },
          "metadata": {},
          "execution_count": 247
        }
      ]
    },
    {
      "cell_type": "code",
      "metadata": {
        "id": "fAoCC5xuPDLP"
      },
      "source": [
        "functional = 2 * v_mean / (r_left + r_right) * np.exp(-2 / (r_left + r_right))"
      ],
      "execution_count": 248,
      "outputs": []
    },
    {
      "cell_type": "code",
      "metadata": {
        "colab": {
          "base_uri": "https://localhost:8080/"
        },
        "id": "Z8yFloyuSBib",
        "outputId": "050ba35f-baad-4965-8060-30acba993a1d"
      },
      "source": [
        "functional"
      ],
      "execution_count": 249,
      "outputs": [
        {
          "output_type": "execute_result",
          "data": {
            "text/plain": [
              "0.4183575366601297"
            ]
          },
          "metadata": {},
          "execution_count": 249
        }
      ]
    },
    {
      "cell_type": "code",
      "metadata": {
        "colab": {
          "base_uri": "https://localhost:8080/"
        },
        "id": "_62r1A86NoTT",
        "outputId": "730b9dd9-fdd5-4de5-db7a-18dfc836d904"
      },
      "source": [
        "n_sample_parts = 100\n",
        "n_parametric_ci_covers, n_bootstrap_ci_covers, n_parametric_bootstrap_ci_covers = [], [], []\n",
        "track_parametric_ci_per_size, track_bootstrap_ci_per_size, track_parametric_bootstrap_ci_per_size = [], [], []\n",
        "\n",
        "for size in tqdm(sizes):\n",
        "    n_resamples = size\n",
        "    n_parametric_ci_cover = n_bootstrap_ci_cover = n_parametric_bootstrap_ci_cover = 0\n",
        "    track_parametric_ci = track_bootstrap_ci = track_parametric_bootstrap_ci = 0\n",
        "    \n",
        "    for _ in range(n_sample_parts):\n",
        "        v_sample = np.random.randn(size) * v_variance + v_mean\n",
        "        r_sample = np.random.rand(size) * (r_right - r_left) + r_left\n",
        "\n",
        "        # delta method parametric interval\n",
        "        parametric_ci = calculate_functional_parametric_interval(v_sample, r_sample, alpha)\n",
        "        parametric_ci_left_boundary, parametric_ci_right_boundary = parametric_ci[1]\n",
        "\n",
        "        track_parametric_ci += parametric_ci_right_boundary - parametric_ci_left_boundary\n",
        "        n_parametric_ci_cover += int(parametric_ci_left_boundary < functional < parametric_ci_right_boundary)\n",
        "\n",
        "        # pure bootstrap interval\n",
        "        bootstrap_ci = calculate_functional_bootstrap_interval(v_sample, r_sample, n_resamples, n_bootstraps, alpha)\n",
        "        bootstrap_ci_left_boundary, bootstrap_ci_right_boundary = bootstrap_ci[1]\n",
        "\n",
        "        track_bootstrap_ci += bootstrap_ci_right_boundary - bootstrap_ci_left_boundary\n",
        "        n_bootstrap_ci_cover += int(bootstrap_ci_left_boundary < functional < bootstrap_ci_right_boundary)\n",
        "\n",
        "        # parametric bootstrap interval\n",
        "        parametric_bootstrap_ci = calculate_functional_parametric_bootstrap_interval(v_sample, r_sample, n_resamples, n_bootstraps, alpha)\n",
        "        parametric_bootstrap_ci_left_boundary, parametric_bootstrap_ci_right_boundary = parametric_bootstrap_ci[1]\n",
        "\n",
        "        track_parametric_bootstrap_ci += parametric_bootstrap_ci_right_boundary - parametric_bootstrap_ci_left_boundary\n",
        "        n_parametric_bootstrap_ci_cover += int(parametric_bootstrap_ci_left_boundary < functional < parametric_bootstrap_ci_right_boundary)\n",
        "    \n",
        "    track_parametric_ci_per_size.append(track_parametric_ci / n_sample_parts)\n",
        "    track_bootstrap_ci_per_size.append(track_bootstrap_ci / n_sample_parts)\n",
        "    track_parametric_bootstrap_ci_per_size.append(track_parametric_bootstrap_ci / n_sample_parts)\n",
        "    \n",
        "    n_parametric_ci_covers.append(n_parametric_ci_cover / n_sample_parts)\n",
        "    n_bootstrap_ci_covers.append(n_bootstrap_ci_cover / n_sample_parts)\n",
        "    n_parametric_bootstrap_ci_covers.append(n_parametric_bootstrap_ci_cover / n_sample_parts)"
      ],
      "execution_count": 250,
      "outputs": [
        {
          "output_type": "stream",
          "name": "stderr",
          "text": [
            "100%|██████████| 4/4 [01:04<00:00, 16.03s/it]\n"
          ]
        }
      ]
    },
    {
      "cell_type": "code",
      "metadata": {
        "colab": {
          "base_uri": "https://localhost:8080/",
          "height": 504
        },
        "id": "6krkyuG-QW_I",
        "outputId": "42f994a6-809d-4261-fe93-d4f953b11b59"
      },
      "source": [
        "plt.figure(figsize=(12, 8))\n",
        "plt.plot(track_parametric_ci_per_size, marker='o')\n",
        "plt.plot(track_bootstrap_ci_per_size, marker='o')\n",
        "plt.plot(track_parametric_bootstrap_ci_per_size, marker='o')\n",
        "\n",
        "plt.xlabel('part sample size', fontsize=14)\n",
        "plt.ylabel('interval length', fontsize=14)\n",
        "\n",
        "plt.xticks(list(range(len(sizes))), sizes)\n",
        "plt.legend(['parametric delta method', 'pure bootstrap', 'parametric bootstrap'], fontsize=14)\n",
        "plt.grid()\n",
        "plt.show()"
      ],
      "execution_count": 254,
      "outputs": [
        {
          "output_type": "display_data",
          "data": {
            "image/png": "[encoded data removed]",
            "text/plain": [
              "<Figure size 864x576 with 1 Axes>"
            ]
          },
          "metadata": {
            "needs_background": "light"
          }
        }
      ]
    },
    {
      "cell_type": "code",
      "metadata": {
        "colab": {
          "base_uri": "https://localhost:8080/",
          "height": 504
        },
        "id": "YbjcxKaUQW_J",
        "outputId": "ac98c576-c1a3-4f0a-afd8-535cce525da9"
      },
      "source": [
        "plt.figure(figsize=(12, 8))\n",
        "plt.plot(n_parametric_ci_covers, marker='o')\n",
        "plt.plot(n_bootstrap_ci_covers, marker='o')\n",
        "plt.plot(n_parametric_bootstrap_ci_covers, marker='o')\n",
        "\n",
        "plt.xlabel('part sample size', fontsize=14)\n",
        "plt.ylabel('coverage of true mean', fontsize=14)\n",
        "\n",
        "plt.xticks(list(range(len(sizes))), sizes)\n",
        "plt.legend(['parametric delta method', 'pure bootstrap', 'parametric bootstrap'], fontsize=14)\n",
        "plt.grid()\n",
        "plt.show()"
      ],
      "execution_count": 253,
      "outputs": [
        {
          "output_type": "display_data",
          "data": {
            "image/png": "[encoded data removed]",
            "text/plain": [
              "<Figure size 864x576 with 1 Axes>"
            ]
          },
          "metadata": {
            "needs_background": "light"
          }
        }
      ]
    },
    {
      "cell_type": "markdown",
      "metadata": {
        "id": "R0Y9m1It9Q36"
      },
      "source": [
        "Pure and parametric bootstrap confidence intervals somehow appear to be tighter but have significantly smaller accuracy than parametric ones obtained using delta method. As previously, length of the interval is decreasing with number of samples, while coverage is (almost) increasing."
      ]
    },
    {
      "cell_type": "code",
      "metadata": {
        "id": "zjGc6OEbJVkw"
      },
      "source": [
        ""
      ],
      "execution_count": null,
      "outputs": []
    }
  ]
}